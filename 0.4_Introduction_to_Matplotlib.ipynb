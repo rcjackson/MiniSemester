{
 "cells": [
  {
   "cell_type": "markdown",
   "metadata": {},
   "source": [
    "## Introduction to Matplotlib"
   ]
  },
  {
   "cell_type": "markdown",
   "metadata": {},
   "source": [
    "Matplotlib is a Python plotting library that can create a variety of different plots, such as\n",
    "pcolormesh and contour plots. Py-ART uses Matplotlib to do its plotting."
   ]
  },
  {
   "cell_type": "markdown",
   "metadata": {},
   "source": [
    "First let's import Matplotlib's pyplot and numpy for use of creating test data."
   ]
  },
  {
   "cell_type": "code",
   "execution_count": null,
   "metadata": {},
   "outputs": [],
   "source": [
    "import matplotlib.pyplot as plt\n",
    "import numpy as np"
   ]
  },
  {
   "cell_type": "markdown",
   "metadata": {},
   "source": [
    "First lets create a simple line plot."
   ]
  },
  {
   "cell_type": "code",
   "execution_count": null,
   "metadata": {},
   "outputs": [],
   "source": [
    "x = np.array([0, 1, 2, 3, 4])\n",
    "y = np.array([3, 5, 9, 1, 3])"
   ]
  },
  {
   "cell_type": "code",
   "execution_count": null,
   "metadata": {},
   "outputs": [],
   "source": [
    "plt.plot(x, y)\n",
    "plt.xlabel('Number of Pirates')\n",
    "plt.ylabel('Number of Ninjas')\n",
    "plt.show()"
   ]
  },
  {
   "cell_type": "markdown",
   "metadata": {},
   "source": [
    "How about a pcolor plot?"
   ]
  },
  {
   "cell_type": "code",
   "execution_count": null,
   "metadata": {},
   "outputs": [],
   "source": [
    "z = np.random.rand(15, 15)\n",
    "plt.pcolor(z)\n",
    "plt.show()"
   ]
  },
  {
   "cell_type": "markdown",
   "metadata": {},
   "source": [
    "Now the great thing about matplotlib is that there are a variety of customization tools.\n",
    "One such tool is the 'figure'. With this we can change the size of the plot, plus more.\n",
    "plt has quite a few tools. We can save the figure, add a title, change the x and y limits\n",
    "and more."
   ]
  },
  {
   "cell_type": "code",
   "execution_count": null,
   "metadata": {},
   "outputs": [],
   "source": [
    "fig = plt.figure(figsize=[5, 5])\n",
    "plt.pcolor(z)\n",
    "plt.xlim(2, 12)\n",
    "plt.ylim(0, 10)\n",
    "plt.title('My Awesome Plot!')\n",
    "plt.show()\n",
    "# plt.savefig('/home/me')"
   ]
  },
  {
   "cell_type": "markdown",
   "metadata": {},
   "source": [
    "With axes, we can plot several figures in the same window by adding subplots."
   ]
  },
  {
   "cell_type": "code",
   "execution_count": null,
   "metadata": {},
   "outputs": [],
   "source": [
    "fig = plt.figure(figsize=[10, 8])\n",
    "z = np.random.rand(10, 10)\n",
    "x1 = np.random.rand(10)\n",
    "x2 = np.random.rand(10)\n",
    "y1 = np.random.rand(10)\n",
    "y2 = np.random.rand(10)\n",
    "\n",
    "ax1 = fig.add_subplot(311)\n",
    "ax1.plot(x1, y1)\n",
    "\n",
    "ax2 = fig.add_subplot(312)\n",
    "ax2.plot(x2,y2)\n",
    "\n",
    "ax3 = fig.add_subplot(313)\n",
    "ax3.pcolor(x1, y1, z)\n",
    "\n",
    "plt.show()"
   ]
  },
  {
   "cell_type": "markdown",
   "metadata": {},
   "source": [
    "## Viewing images"
   ]
  },
  {
   "cell_type": "markdown",
   "metadata": {},
   "source": [
    "You can even load images and do all sorts of manipulations on them! For example, to load an image we can do:"
   ]
  },
  {
   "cell_type": "code",
   "execution_count": null,
   "metadata": {},
   "outputs": [],
   "source": [
    "image = plt.imread('cat.jpeg')\n",
    "plt.imshow(image)"
   ]
  },
  {
   "cell_type": "markdown",
   "metadata": {},
   "source": [
    "Let's make the kitty black and white! The array that is returned is a N x M x 3 array, where the first two dimensions are the length and width, and the third dimension is the red, green, and blue components of the image. We can find the magnitude of the array along the third axis using np.linalg.norm to get a greyscale image."
   ]
  },
  {
   "cell_type": "code",
   "execution_count": null,
   "metadata": {},
   "outputs": [],
   "source": [
    "grey_image = np.linalg.norm(image, axis=2)\n",
    "plt.imshow(grey_image, cmap='Greys')"
   ]
  },
  {
   "cell_type": "markdown",
   "metadata": {},
   "source": [
    "Let's invert the color map!"
   ]
  },
  {
   "cell_type": "code",
   "execution_count": null,
   "metadata": {},
   "outputs": [],
   "source": [
    "grey_image = np.linalg.norm(image, axis=2)\n",
    "plt.imshow(grey_image, cmap='Greys_r')"
   ]
  },
  {
   "cell_type": "markdown",
   "metadata": {},
   "source": [
    "Let's get a little bit colorful!"
   ]
  },
  {
   "cell_type": "code",
   "execution_count": null,
   "metadata": {},
   "outputs": [],
   "source": [
    "grey_image = np.linalg.norm(image, axis=2)\n",
    "plt.imshow(grey_image, cmap='rainbow')"
   ]
  },
  {
   "cell_type": "markdown",
   "metadata": {},
   "source": [
    "Let's flip the cat upside down! We would simply take the array and reverse the order of the second axis."
   ]
  },
  {
   "cell_type": "code",
   "execution_count": null,
   "metadata": {},
   "outputs": [],
   "source": [
    "image = plt.imread('cat.jpeg')\n",
    "image = image[-1:0:-1, :, :]\n",
    "plt.imshow(image)"
   ]
  },
  {
   "cell_type": "code",
   "execution_count": null,
   "metadata": {},
   "outputs": [],
   "source": [
    "image = plt.imread('cat.jpeg')\n",
    "plt.imshow(image[:, :, 0], cmap='Reds')"
   ]
  },
  {
   "cell_type": "code",
   "execution_count": null,
   "metadata": {},
   "outputs": [],
   "source": [
    "image = plt.imread('cat.jpeg')\n",
    "plt.imshow(image[:, :, 1], cmap='Greens')"
   ]
  },
  {
   "cell_type": "markdown",
   "metadata": {},
   "source": [
    "## Histogram statistics"
   ]
  },
  {
   "cell_type": "markdown",
   "metadata": {},
   "source": [
    "Matplotlib can even be used to make bar charts! Let's plot a frequency histogram from an example dataset! For example, we have 30 test scores for the students in the class. The np.hist command will sort the scores into specified bins and create a bar graph."
   ]
  },
  {
   "cell_type": "code",
   "execution_count": null,
   "metadata": {},
   "outputs": [],
   "source": [
    "scores = np.array([100, 100, 100, 97, 97, 97, 94, 94, 90, 88,\n",
    "                   86, 86, 83, 83, 79, 77, 75, 75, 73, 71,\n",
    "                   68, 65, 63, 61, 55, 50, 49, 44, 40, 30])\n",
    "plt.hist(scores, bins=np.linspace(0, 100, 25))\n",
    "plt.xlabel('Test scores')\n",
    "plt.ylabel('#')"
   ]
  },
  {
   "cell_type": "markdown",
   "metadata": {},
   "source": [
    "We can even group the scores by A, B, C, D, and F by customizing the bins."
   ]
  },
  {
   "cell_type": "code",
   "execution_count": null,
   "metadata": {},
   "outputs": [],
   "source": [
    "hist, bins = np.histogram(scores, bins=[0, 60, 70, 80, 90, 100])\n",
    "plt.bar([1, 2, 3, 4, 5], height=hist)\n",
    "plt.xticks([1, 2, 3, 4, 5], ['F', 'D', 'C', 'B', 'A'])\n",
    "plt.xlabel('Grade')\n",
    "plt.ylabel('Count')"
   ]
  },
  {
   "cell_type": "markdown",
   "metadata": {
    "collapsed": true
   },
   "source": [
    "## Exercise\n",
    "\n",
    "Plot the curve Y = 2X + 1 over the range of X = (-100, 100)"
   ]
  },
  {
   "cell_type": "code",
   "execution_count": null,
   "metadata": {},
   "outputs": [],
   "source": [
    "%load section4_answer.py"
   ]
  },
  {
   "cell_type": "code",
   "execution_count": null,
   "metadata": {},
   "outputs": [],
   "source": []
  }
 ],
 "metadata": {
  "kernelspec": {
   "display_name": "Python 3",
   "language": "python",
   "name": "python3"
  },
  "language_info": {
   "codemirror_mode": {
    "name": "ipython",
    "version": 3
   },
   "file_extension": ".py",
   "mimetype": "text/x-python",
   "name": "python",
   "nbconvert_exporter": "python",
   "pygments_lexer": "ipython3",
   "version": "3.8.6"
  }
 },
 "nbformat": 4,
 "nbformat_minor": 2
}
