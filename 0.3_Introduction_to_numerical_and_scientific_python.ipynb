{
 "cells": [
  {
   "cell_type": "markdown",
   "metadata": {},
   "source": [
    "## Introduction to numerical and scientific Python"
   ]
  },
  {
   "cell_type": "markdown",
   "metadata": {},
   "source": [
    "In this notebook, we will see how Python can be used to do basic numerical analysis. Python includes a package called NumPy that contains many routines that contain basic operations from linear algebra, trigonometry, and statistics. "
   ]
  },
  {
   "cell_type": "code",
   "execution_count": null,
   "metadata": {},
   "outputs": [],
   "source": [
    "import numpy as np"
   ]
  },
  {
   "cell_type": "markdown",
   "metadata": {},
   "source": [
    "NumPy can store multidimensional arrays of values like:"
   ]
  },
  {
   "cell_type": "code",
   "execution_count": null,
   "metadata": {},
   "outputs": [],
   "source": [
    "X = np.array([[1,2], [3,4]])\n",
    "print(X)"
   ]
  },
  {
   "cell_type": "markdown",
   "metadata": {},
   "source": [
    "We can take the mean of the array by just doing:"
   ]
  },
  {
   "cell_type": "code",
   "execution_count": null,
   "metadata": {},
   "outputs": [],
   "source": [
    "X.mean()"
   ]
  },
  {
   "cell_type": "markdown",
   "metadata": {},
   "source": [
    "For the standard devation."
   ]
  },
  {
   "cell_type": "code",
   "execution_count": null,
   "metadata": {},
   "outputs": [],
   "source": [
    "X.std()"
   ]
  },
  {
   "cell_type": "markdown",
   "metadata": {},
   "source": [
    "If we want to do the average along one axis, we can do. This will do the average along the 0th axis (the columns)."
   ]
  },
  {
   "cell_type": "code",
   "execution_count": null,
   "metadata": {},
   "outputs": [],
   "source": [
    "np.mean(X, axis=0)"
   ]
  },
  {
   "cell_type": "markdown",
   "metadata": {},
   "source": [
    "Much like in MATLAB, we can make arrays that contain values that range from one value to another with equal spacing in between."
   ]
  },
  {
   "cell_type": "code",
   "execution_count": null,
   "metadata": {},
   "outputs": [],
   "source": [
    "Y = np.linspace(-1, 1, 10)\n",
    "Y"
   ]
  },
  {
   "cell_type": "markdown",
   "metadata": {},
   "source": [
    "All of the trigonometric functions are available in NumPy."
   ]
  },
  {
   "cell_type": "code",
   "execution_count": null,
   "metadata": {},
   "outputs": [],
   "source": [
    "theta = np.linspace(-np.pi, np.pi, 20)\n",
    "np.sin(theta).round(2)                   # The .round(2) rounds to 2 decimal places"
   ]
  },
  {
   "cell_type": "markdown",
   "metadata": {},
   "source": [
    "We can take numerical derivatives as well!"
   ]
  },
  {
   "cell_type": "code",
   "execution_count": null,
   "metadata": {},
   "outputs": [],
   "source": [
    "X = np.linspace(0, 1, 20)\n",
    "Y = 9*X+25                        # The .round(2) rounds to 2 decimal places\n",
    "dydx = np.gradient(Y, X)\n",
    "print('Deriviative of 9x+25=' + str(dydx))"
   ]
  },
  {
   "cell_type": "markdown",
   "metadata": {},
   "source": [
    "## Masking"
   ]
  },
  {
   "cell_type": "markdown",
   "metadata": {},
   "source": [
    "We can search for and filter out arrays according to dataset values. For example, if we just want all of the values in an array that are less than 10, we can do"
   ]
  },
  {
   "cell_type": "code",
   "execution_count": null,
   "metadata": {},
   "outputs": [],
   "source": [
    "x = np.linspace(0, 20, 10)\n",
    "x = x[x < 10]\n",
    "print(x)"
   ]
  },
  {
   "cell_type": "markdown",
   "metadata": {},
   "source": [
    "We can even look for regions that satisify more than one criteria. Say, we want to get all of the values that are > 3 and < 6"
   ]
  },
  {
   "cell_type": "code",
   "execution_count": null,
   "metadata": {},
   "outputs": [],
   "source": [
    "x = np.linspace(0, 20, 100)\n",
    "x = x[np.logical_and(x > 3, x < 6)]\n",
    "print(x)"
   ]
  },
  {
   "cell_type": "markdown",
   "metadata": {},
   "source": [
    "Or, the opposite"
   ]
  },
  {
   "cell_type": "code",
   "execution_count": null,
   "metadata": {},
   "outputs": [],
   "source": [
    "x = np.linspace(0, 20, 100)\n",
    "x = x[~np.logical_and(x > 3, x < 6)]\n",
    "print(x)"
   ]
  },
  {
   "cell_type": "code",
   "execution_count": null,
   "metadata": {},
   "outputs": [],
   "source": [
    "x = np.linspace(0, 20, 100)\n",
    "x = x[np.logical_or(x <= 3, x >= 6)]\n",
    "print(x)"
   ]
  },
  {
   "cell_type": "markdown",
   "metadata": {},
   "source": [
    "We can even mask out values in the array so that they are not included in the calculation."
   ]
  },
  {
   "cell_type": "code",
   "execution_count": null,
   "metadata": {},
   "outputs": [],
   "source": [
    "x = np.linspace(0, 20, 10)\n",
    "x_inside = np.ma.masked_where(np.logical_and(x > 3, x < 6), x)\n",
    "x_outside = np.ma.masked_where(~np.logical_and(x > 3, x < 6), x)\n",
    "print(x_inside)\n",
    "print(x_outside)\n",
    "print(np.ma.sum(x_inside), np.ma.sum(x_outside))"
   ]
  },
  {
   "cell_type": "markdown",
   "metadata": {},
   "source": [
    "For a full list of features, let's look at the documentation."
   ]
  },
  {
   "cell_type": "code",
   "execution_count": null,
   "metadata": {},
   "outputs": [],
   "source": [
    "print(np.__doc__)"
   ]
  },
  {
   "cell_type": "markdown",
   "metadata": {},
   "source": [
    "## Introduction to SciPy\n",
    "\n",
    "Scipy contains various analysis packages such as:\n",
    "\n",
    "    * ndimage for image analysis\n",
    "    * sklearn for machine learning\n",
    "    * linalg for linear algebra\n",
    "\n",
    "    \n",
    "There is not enough time in this tutorial to provide a comprehensive tutorial of SciPy, but if you want more information about the packages in SciPy, press shift-Enter in the cell 2 cells below this one. In this tutorial, we will go over how to do a basic quadratic curve fit using example data."
   ]
  },
  {
   "cell_type": "code",
   "execution_count": null,
   "metadata": {},
   "outputs": [],
   "source": [
    "import scipy"
   ]
  },
  {
   "cell_type": "code",
   "execution_count": null,
   "metadata": {},
   "outputs": [],
   "source": [
    "print(scipy.__doc__)"
   ]
  },
  {
   "cell_type": "markdown",
   "metadata": {},
   "source": [
    "Here, we will show an example from SciPy's optimize package. The optimize package is commonly used for curve fitting. We will fit 100 points which are a random perturbation of $y = (x - 5)^{2} = x^2 - 10x + 25$. The curve_fit routine returns a tuple, where the first entries are the coefficients and the second to fourth entries represent the errors in the coefficents."
   ]
  },
  {
   "cell_type": "code",
   "execution_count": null,
   "metadata": {},
   "outputs": [],
   "source": [
    "from scipy.optimize import curve_fit\n",
    "def x_squared(x, a, b, c):\n",
    "    return a*x**2 + b*x + c\n",
    "\n",
    "x = np.linspace(5, 15, 100)\n",
    "y = np.linspace(0, 10, 100)**2 + 10*np.random.random(100)\n",
    "fit = curve_fit(x_squared, x, y)\n",
    "print(fit[0])"
   ]
  },
  {
   "cell_type": "markdown",
   "metadata": {},
   "source": [
    "As you can see, we get coefficients that are very close to 1, -10, and 25 like we would expect. \n",
    "While I have not introduced plotting yet and will get to that in the next part of this tutorial, the below code\n",
    "can be used to check the quality of your fit visually."
   ]
  },
  {
   "cell_type": "code",
   "execution_count": null,
   "metadata": {},
   "outputs": [],
   "source": [
    "%pylab inline\n",
    "plt.scatter(x, y, s=8)\n",
    "plt.plot(x, x_squared(x, *fit[0]), color='k', linewidth=2)\n",
    "plt.xlabel('X')\n",
    "plt.ylabel('Y')"
   ]
  },
  {
   "cell_type": "markdown",
   "metadata": {},
   "source": [
    "## Exercise\n",
    "\n",
    "Write a function that determines if two vectors are orthogonal by seeing if their dot product is zero. Use np.dot to calculate the dot product between two 1-D arrays."
   ]
  },
  {
   "cell_type": "code",
   "execution_count": null,
   "metadata": {},
   "outputs": [],
   "source": []
  },
  {
   "cell_type": "code",
   "execution_count": null,
   "metadata": {},
   "outputs": [],
   "source": [
    "%load section3_answer.py"
   ]
  }
 ],
 "metadata": {
  "kernelspec": {
   "display_name": "Python 3",
   "language": "python",
   "name": "python3"
  },
  "language_info": {
   "codemirror_mode": {
    "name": "ipython",
    "version": 3
   },
   "file_extension": ".py",
   "mimetype": "text/x-python",
   "name": "python",
   "nbconvert_exporter": "python",
   "pygments_lexer": "ipython3",
   "version": "3.8.6"
  }
 },
 "nbformat": 4,
 "nbformat_minor": 2
}
