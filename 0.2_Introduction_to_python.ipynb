{
 "cells": [
  {
   "cell_type": "markdown",
   "metadata": {},
   "source": [
    "## Introduction to Python\n",
    "\n",
    "What are the benefits of using Python?\n",
    "\n",
    " * General-purpose.\n",
    " * Interpreted.\n",
    " * Focuses on readability.\n",
    " * Comprehesive standard library.\n",
    " * Extended with a large number of third-party packages.\n",
    " * Widely used in scientific programming.\n",
    "\n",
    "This presentation will give a brief into to some key features of Python to help those not familar\n",
    "with the language with the remainder of the class. This is in no way a comprehensive introduction\n",
    "to either topic, for the sake of time. Excellent tutorials on Python can be found online. If nothing else, Stack Overflow will probably have the answer to any questions you may have regarding Python.\n",
    "\n",
    "In the next notebook, we will discuss some numerical and scientific Python packages."
   ]
  },
  {
   "cell_type": "markdown",
   "metadata": {},
   "source": [
    "As seen in the first notebook, we can print text by using the print function."
   ]
  },
  {
   "cell_type": "code",
   "execution_count": null,
   "metadata": {},
   "outputs": [],
   "source": [
    "print(\"I'm Mr. Meeseeks look at me!!!!\")"
   ]
  },
  {
   "cell_type": "markdown",
   "metadata": {},
   "source": [
    "## Variables and Types"
   ]
  },
  {
   "cell_type": "markdown",
   "metadata": {},
   "source": [
    "In Python you can define a variable and assign it a value. For example:"
   ]
  },
  {
   "cell_type": "code",
   "execution_count": null,
   "metadata": {},
   "outputs": [],
   "source": [
    "foo = 1"
   ]
  },
  {
   "cell_type": "markdown",
   "metadata": {},
   "source": [
    "foo is the integer 1, so we can add, subtract etc to foo."
   ]
  },
  {
   "cell_type": "code",
   "execution_count": null,
   "metadata": {},
   "outputs": [],
   "source": [
    "foo + 1"
   ]
  },
  {
   "cell_type": "markdown",
   "metadata": {},
   "source": [
    "We need to reassign or reuse the variable to keep the add integer"
   ]
  },
  {
   "cell_type": "code",
   "execution_count": null,
   "metadata": {},
   "outputs": [],
   "source": [
    "foo2 = foo + 1\n",
    "print(foo2)\n",
    "foo = foo + 1\n",
    "print(foo)"
   ]
  },
  {
   "cell_type": "markdown",
   "metadata": {},
   "source": [
    "There are a quite a few different data types in Python, but to name a couple for the sake of time:\n",
    " * Strings\n",
    " * Floats\n",
    " * Integers\n",
    " * Lists\n",
    " * and more.."
   ]
  },
  {
   "cell_type": "markdown",
   "metadata": {},
   "source": [
    "To check a data type we can simply place type in front of that variable:"
   ]
  },
  {
   "cell_type": "code",
   "execution_count": null,
   "metadata": {},
   "outputs": [],
   "source": [
    "bar = 3.5\n",
    "type(bar)"
   ]
  },
  {
   "cell_type": "markdown",
   "metadata": {},
   "source": [
    "Python even allows us to combine string variables:"
   ]
  },
  {
   "cell_type": "code",
   "execution_count": null,
   "metadata": {},
   "outputs": [],
   "source": [
    "obiwan = \"That's no moon... \"\n",
    "kenobi = \"It's a space station!\"\n",
    "obiwan_kenobi = obiwan + kenobi\n",
    "print(obiwan_kenobi)"
   ]
  },
  {
   "cell_type": "markdown",
   "metadata": {},
   "source": [
    "## Containers"
   ]
  },
  {
   "cell_type": "markdown",
   "metadata": {},
   "source": [
    "In Python there are also containers. Tuples, lists and dictionaries.\n",
    "A list is exactly how it sounds, and list allow us to search via indexing. \n",
    "To create at list:"
   ]
  },
  {
   "cell_type": "code",
   "execution_count": null,
   "metadata": {},
   "outputs": [],
   "source": [
    "my_list = ['hello', 42, 100000.1, 'I Love Python!!']"
   ]
  },
  {
   "cell_type": "markdown",
   "metadata": {},
   "source": [
    "and yes lists can contain different types of variables, floats, strings you name it!"
   ]
  },
  {
   "cell_type": "markdown",
   "metadata": {},
   "source": [
    "To index:"
   ]
  },
  {
   "cell_type": "code",
   "execution_count": null,
   "metadata": {},
   "outputs": [],
   "source": [
    "print(my_list[3])"
   ]
  },
  {
   "cell_type": "markdown",
   "metadata": {},
   "source": [
    "A tuple is a sequence of immutable Python objects. Being sequences, tuples are like lists,\n",
    "but the difference between the two is that the tuples cannot be changed unlike lists. These are useful for providing coordinates."
   ]
  },
  {
   "cell_type": "code",
   "execution_count": null,
   "metadata": {},
   "outputs": [],
   "source": [
    "tup = (1, 2, 3)\n",
    "print(tup)"
   ]
  },
  {
   "cell_type": "code",
   "execution_count": null,
   "metadata": {},
   "outputs": [],
   "source": [
    "tup[1] = 6"
   ]
  },
  {
   "cell_type": "markdown",
   "metadata": {},
   "source": [
    "With dictionaries, we essential can store information and have keys that we can access. You will see this a lot in\n",
    "Py-ART. The fields are stored this way."
   ]
  },
  {
   "cell_type": "code",
   "execution_count": null,
   "metadata": {},
   "outputs": [],
   "source": [
    "arctic = {'animals': 'polar bear, walrus and more',\n",
    "          'size': 13985000,\n",
    "          'size_units': 'km2',\n",
    "          'climate': 'Really cold... but the northern lights are awesome!'}"
   ]
  },
  {
   "cell_type": "code",
   "execution_count": null,
   "metadata": {},
   "outputs": [],
   "source": [
    "arctic['animals']"
   ]
  },
  {
   "cell_type": "markdown",
   "metadata": {},
   "source": [
    "## Flow Control Statements"
   ]
  },
  {
   "cell_type": "markdown",
   "metadata": {},
   "source": [
    "There are flow control statements in Python. With these we can check different conditions and which of them are met."
   ]
  },
  {
   "cell_type": "code",
   "execution_count": null,
   "metadata": {},
   "outputs": [],
   "source": [
    "a = 10\n",
    "if a > 10:\n",
    "    print(\"a is larger than 10\")\n",
    "elif a < 10:\n",
    "    print(\"a is less than 10\")\n",
    "else:\n",
    "    print(\"a is equal to 10\")"
   ]
  },
  {
   "cell_type": "markdown",
   "metadata": {},
   "source": [
    "We can also create loops to do an action to multiple items. Let's take a list for example. "
   ]
  },
  {
   "cell_type": "code",
   "execution_count": null,
   "metadata": {},
   "outputs": [],
   "source": [
    "releases = ['Dali', 'Bob Ross', 'Michelangelo']\n",
    "for release in releases:\n",
    "    print(release + ' is going to be a Py-ART release!')"
   ]
  },
  {
   "cell_type": "markdown",
   "metadata": {},
   "source": [
    "## Functions"
   ]
  },
  {
   "cell_type": "markdown",
   "metadata": {},
   "source": [
    "Functions are a block of reusable code that can perform an action and can even return variables.\n",
    "You can also input variables into a function."
   ]
  },
  {
   "cell_type": "code",
   "execution_count": null,
   "metadata": {},
   "outputs": [],
   "source": [
    "def func():\n",
    "    print(\"Hello world\")\n",
    "\n",
    "func()"
   ]
  },
  {
   "cell_type": "code",
   "execution_count": null,
   "metadata": {},
   "outputs": [],
   "source": [
    "def name_func(name):\n",
    "    print(\"Hello\", name)\n",
    "\n",
    "name_func(\"Chuck Norris\")"
   ]
  },
  {
   "cell_type": "code",
   "execution_count": null,
   "metadata": {},
   "outputs": [],
   "source": [
    "def addition_func(x):\n",
    "    return x + 42\n",
    "\n",
    "new_num = addition_func(2)\n",
    "print(new_num)"
   ]
  },
  {
   "cell_type": "markdown",
   "metadata": {},
   "source": [
    "## Classes"
   ]
  },
  {
   "cell_type": "markdown",
   "metadata": {},
   "source": [
    "Classes allow for the bundling of data and functionality. Creating a new class\n",
    "creates a new type of object."
   ]
  },
  {
   "cell_type": "code",
   "execution_count": null,
   "metadata": {},
   "outputs": [],
   "source": [
    "class Car(object):\n",
    "\n",
    "    engine = 'V4'    # class attribute\n",
    "\n",
    "    def start(self):  # class method\n",
    "        print(\"Starting the car with a\", self.engine, \"engine\")\n",
    "\n",
    "mycar = Car()"
   ]
  },
  {
   "cell_type": "code",
   "execution_count": null,
   "metadata": {},
   "outputs": [],
   "source": [
    "type(mycar)"
   ]
  },
  {
   "cell_type": "code",
   "execution_count": null,
   "metadata": {},
   "outputs": [],
   "source": [
    "mycar.engine"
   ]
  },
  {
   "cell_type": "code",
   "execution_count": null,
   "metadata": {},
   "outputs": [],
   "source": [
    "mycar.start()"
   ]
  },
  {
   "cell_type": "code",
   "execution_count": null,
   "metadata": {},
   "outputs": [],
   "source": [
    "mycar.engine = 'V6'"
   ]
  },
  {
   "cell_type": "code",
   "execution_count": null,
   "metadata": {},
   "outputs": [],
   "source": [
    "mycar.engine"
   ]
  },
  {
   "cell_type": "code",
   "execution_count": null,
   "metadata": {},
   "outputs": [],
   "source": [
    "mycar.start()"
   ]
  },
  {
   "cell_type": "markdown",
   "metadata": {},
   "source": [
    "## Importing"
   ]
  },
  {
   "cell_type": "markdown",
   "metadata": {},
   "source": [
    "In Python we can import packages to be used. We will go into more detail on two popular Python packages\n",
    "in the next notebook. To import a package:"
   ]
  },
  {
   "cell_type": "code",
   "execution_count": null,
   "metadata": {},
   "outputs": [],
   "source": [
    "import turtle"
   ]
  },
  {
   "cell_type": "markdown",
   "metadata": {},
   "source": [
    "We can also import a package and assign it a different name."
   ]
  },
  {
   "cell_type": "code",
   "execution_count": null,
   "metadata": {},
   "outputs": [],
   "source": [
    "import numpy as np"
   ]
  },
  {
   "cell_type": "markdown",
   "metadata": {},
   "source": [
    "We can also import from within a package."
   ]
  },
  {
   "cell_type": "code",
   "execution_count": null,
   "metadata": {},
   "outputs": [],
   "source": [
    "from numpy import array"
   ]
  },
  {
   "cell_type": "markdown",
   "metadata": {},
   "source": [
    "## Exercise # 1\n",
    "Create a function that uses 'if else statement flow control' to determine if the input value is an even number or an odd number. \n",
    "\n",
    "Hint: In Python, you can get the remainder of division by using the '%' command. For example, \n",
    "```\n",
    "    7 % 3 \n",
    "``` \n",
    "The above command will return the remainder of 7 divided by 3, which is one."
   ]
  },
  {
   "cell_type": "code",
   "execution_count": null,
   "metadata": {},
   "outputs": [],
   "source": []
  },
  {
   "cell_type": "code",
   "execution_count": null,
   "metadata": {},
   "outputs": [],
   "source": [
    "%load section2_answer.py"
   ]
  },
  {
   "cell_type": "markdown",
   "metadata": {},
   "source": [
    "## For and while loops"
   ]
  },
  {
   "cell_type": "markdown",
   "metadata": {},
   "source": [
    "When you do data analysis, you will run into many instances where you'll want to repeat a certain operation numerous times. For example, you'll want to go through items in a list and analyze the properties of each item so that you can provide summary statistics. Using the same line over and over again will take too much room and be a hassle. This is where for and while loops come in. "
   ]
  },
  {
   "cell_type": "markdown",
   "metadata": {},
   "source": [
    "For loops are useful for iterating over sequential lists. For example, if you want to do the same job, but just increment a variable by 1 before doing the same code, you can do this with a for loop."
   ]
  },
  {
   "cell_type": "code",
   "execution_count": 8,
   "metadata": {},
   "outputs": [
    {
     "name": "stdout",
     "output_type": "stream",
     "text": [
      "I'm the Count! I love to count!\n",
      "0\n",
      "1\n",
      "2\n",
      "3\n",
      "4\n",
      "5\n",
      "6\n",
      "7\n",
      "8\n",
      "9\n",
      "Oh, I'm so excited!\n"
     ]
    }
   ],
   "source": [
    "print(\"I'm the Count! I love to count!\")\n",
    "for i in range(10):\n",
    "    print(i)\n",
    "print(\"Oh, I'm so excited!\")"
   ]
  },
  {
   "cell_type": "markdown",
   "metadata": {},
   "source": [
    "You can also iterate over items in a list as well as do incremental counting."
   ]
  },
  {
   "cell_type": "code",
   "execution_count": 11,
   "metadata": {},
   "outputs": [
    {
     "name": "stdout",
     "output_type": "stream",
     "text": [
      "You kids need to be quiet! You're too loud! Get off my lawn!\n",
      "Joey, get off my lawn!\n",
      "Maria, get off my lawn!\n",
      "Lamar, get off my lawn!\n",
      "Bobby, get off my lawn!\n",
      "Eduardo, get off my lawn!\n",
      "Liz, get off my lawn!\n"
     ]
    }
   ],
   "source": [
    "kids = [\"Joey\", \"Maria\", \"Lamar\", \"Bobby\", \"Eduardo\", \"Liz\"]\n",
    "print(\"You kids need to be quiet! You're too loud! Get off my lawn!\")\n",
    "for brat in kids:\n",
    "    print(brat + \", get off my lawn!\")"
   ]
  },
  {
   "cell_type": "markdown",
   "metadata": {},
   "source": [
    "Finally, sometimes you want to wait until a certain condition is met. This is where while loops come in. For example, if you want to flip a coin until you get 100 heads, you don't necessarily know how many flips you'll need in advance. But, with a while loop, we can keep going until we get 100 heads."
   ]
  },
  {
   "cell_type": "code",
   "execution_count": 18,
   "metadata": {},
   "outputs": [
    {
     "name": "stdout",
     "output_type": "stream",
     "text": [
      "We had to flip the coin 197 times.\n"
     ]
    }
   ],
   "source": [
    "import random\n",
    "\n",
    "def coin_flip():\n",
    "    return random.random() < 0.5\n",
    "\n",
    "num_flips = 0\n",
    "num_heads = 0\n",
    "while num_heads < 100:\n",
    "    num_heads += coin_flip()\n",
    "    num_flips += 1\n",
    "\n",
    "print(\"We had to flip the coin \" + str(num_flips) + \" times.\")"
   ]
  }
 ],
 "metadata": {
  "kernelspec": {
   "display_name": "Python 3",
   "language": "python",
   "name": "python3"
  },
  "language_info": {
   "codemirror_mode": {
    "name": "ipython",
    "version": 3
   },
   "file_extension": ".py",
   "mimetype": "text/x-python",
   "name": "python",
   "nbconvert_exporter": "python",
   "pygments_lexer": "ipython3",
   "version": "3.8.6"
  }
 },
 "nbformat": 4,
 "nbformat_minor": 2
}
