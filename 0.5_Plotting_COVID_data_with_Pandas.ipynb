{
 "cells": [
  {
   "cell_type": "markdown",
   "metadata": {},
   "source": [
    "# Introduction to Pandas\n",
    "\n",
    "Pandas is a library that is commonly used for processing timeseries datasets in Excel and text format. If you are interested in any data analysis, mastering pandas will go a long way there. Pandas is capable of complex operations on timeseries data. For this example, we will do various operations on the COVID-19 statistics from the COVID Tracking Project."
   ]
  },
  {
   "cell_type": "code",
   "execution_count": null,
   "metadata": {},
   "outputs": [],
   "source": [
    "import pandas as pd\n",
    "%pylab inline"
   ]
  },
  {
   "cell_type": "markdown",
   "metadata": {},
   "source": [
    "The COVID tracking Project hosts all of the available case, death, and hospitalization data for all 50 states in the US. It is updated daily and is in CSV (comma-separated values) format. This is a common data format that you will encounter when analyzing data where the values are given as columns separated by commas in a text file. Pandas is especially designed to read such files. First, let's load the Covid Tracking Project data for the day. The command to do this is *pd.read_csv*. We will instruct pandas the column for which to parse the times using the *parse_dates* argument."
   ]
  },
  {
   "cell_type": "code",
   "execution_count": null,
   "metadata": {},
   "outputs": [],
   "source": [
    "url = 'https://covidtracking.com/api/v1/states/daily.csv'\n",
    "states = pd.read_csv(url, parse_dates=['date'])"
   ]
  },
  {
   "cell_type": "markdown",
   "metadata": {},
   "source": [
    "We can view the resulting DataFrame (states)"
   ]
  },
  {
   "cell_type": "code",
   "execution_count": null,
   "metadata": {},
   "outputs": [],
   "source": [
    "states"
   ]
  },
  {
   "cell_type": "markdown",
   "metadata": {},
   "source": [
    "Now here we look at the dataset and realize that it is not sorted in a way that makes data manipulation easy. In particular,\n",
    "if we wanted the data for a specific state, we would have to use several commands to filter out the data by state. However,\n",
    "with the power of pandas we can set the index to be any column we want it to be. So, why not instead reindex the dataset\n",
    "to be sorted by state and by date?"
   ]
  },
  {
   "cell_type": "code",
   "execution_count": null,
   "metadata": {},
   "outputs": [],
   "source": [
    "states = states.set_index(['state', 'date'])\n",
    "states"
   ]
  },
  {
   "cell_type": "markdown",
   "metadata": {},
   "source": [
    "Now, if we wanted to just view the DataFrame by a specific state, we can just do:"
   ]
  },
  {
   "cell_type": "code",
   "execution_count": null,
   "metadata": {},
   "outputs": [],
   "source": [
    "st = 'WA'\n",
    "states.loc[st, :]"
   ]
  },
  {
   "cell_type": "markdown",
   "metadata": {},
   "source": [
    "However, something is still not quite right. We want the dates to be in chronological order. Thankfully, pandas allows us to \n",
    "do that too."
   ]
  },
  {
   "cell_type": "code",
   "execution_count": null,
   "metadata": {},
   "outputs": [],
   "source": [
    "states = states.sort_index()\n",
    "states.loc[st]"
   ]
  },
  {
   "cell_type": "markdown",
   "metadata": {},
   "source": [
    "If we then want to plot the cases per day for the state of Washington, we can then just do."
   ]
  },
  {
   "cell_type": "code",
   "execution_count": null,
   "metadata": {},
   "outputs": [],
   "source": [
    "states['positiveIncrease'].loc[st].plot()"
   ]
  },
  {
   "cell_type": "markdown",
   "metadata": {},
   "source": [
    "This looks ugly and noisy due to the fact that, typically, states report fewer cases on the weekends than on the weekdays. \n",
    "After all the data reporting staff need a break. This is not a problem for pandas though. We can even do rolling averages. We\n",
    "can even stack lines on the same plot, and provide the same arguments to plot as matplotlib's plot to customize\n",
    "the line and legend entries."
   ]
  },
  {
   "cell_type": "code",
   "execution_count": null,
   "metadata": {},
   "outputs": [],
   "source": [
    "states['positiveIncrease'].loc[st].rolling(7).mean().plot(label='7 day average')\n",
    "states['positiveIncrease'].loc[st].rolling(14).mean().plot(label='14 day average')\n",
    "plt.legend()"
   ]
  },
  {
   "cell_type": "markdown",
   "metadata": {},
   "source": [
    "We can even do standard operations on each pandas column as if it were a NumPy array. For example, if we wanted to calculate \n",
    "the test positivity rate (a measure of cases adjusted for testing) for the state of Washington, we can simply divide the number of new cases by the number of tests\n",
    "then multiply by 100."
   ]
  },
  {
   "cell_type": "code",
   "execution_count": null,
   "metadata": {},
   "outputs": [],
   "source": [
    "positivity_rate = states['positiveIncrease'].loc[st].rolling(7).sum() / \\\n",
    "    states['totalTestResultsIncrease'].loc[st].rolling(7).sum() * 100\n",
    "positivity_rate.plot(ylabel='Positivity rate [%]')"
   ]
  },
  {
   "cell_type": "markdown",
   "metadata": {},
   "source": [
    "If we want to compare the epicurves of two states, we can also plot them on the same plot"
   ]
  },
  {
   "cell_type": "code",
   "execution_count": 76,
   "metadata": {},
   "outputs": [
    {
     "data": {
      "text/plain": [
       "Text(0, 0.5, 'New cases')"
      ]
     },
     "execution_count": 76,
     "metadata": {},
     "output_type": "execute_result"
    },
    {
     "data": {
      "image/png": "[encoded data removed]",
      "text/plain": [
       "<Figure size 432x288 with 1 Axes>"
      ]
     },
     "metadata": {
      "needs_background": "light"
     },
     "output_type": "display_data"
    }
   ],
   "source": [
    "states['positiveIncrease'].loc['IL'].rolling(14).mean().plot(label='Illinois')\n",
    "states['positiveIncrease'].loc['WI'].rolling(14).mean().plot(label='Wisconsin')\n",
    "plt.legend()\n",
    "plt.ylabel('New cases')"
   ]
  },
  {
   "cell_type": "code",
   "execution_count": null,
   "metadata": {},
   "outputs": [],
   "source": []
  }
 ],
 "metadata": {
  "kernelspec": {
   "display_name": "Python [conda env:tutorial_env] *",
   "language": "python",
   "name": "conda-env-tutorial_env-py"
  },
  "language_info": {
   "codemirror_mode": {
    "name": "ipython",
    "version": 3
   },
   "file_extension": ".py",
   "mimetype": "text/x-python",
   "name": "python",
   "nbconvert_exporter": "python",
   "pygments_lexer": "ipython3",
   "version": "3.8.6"
  }
 },
 "nbformat": 4,
 "nbformat_minor": 4
}
